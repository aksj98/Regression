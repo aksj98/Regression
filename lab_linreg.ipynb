{
 "cells": [
  {
   "cell_type": "markdown",
   "metadata": {},
   "source": [
    "# Linear Regression Multiple Ways"
   ]
  },
  {
   "cell_type": "markdown",
   "metadata": {},
   "source": [
    "## Making the data\n",
    "\n",
    "We'll first construct a synthetic data set..using a function from the `scikit-learn` library. Synthetic data is nice in the sense that we can constrain how the noise behaves, and thus isolate effects."
   ]
  },
  {
   "cell_type": "code",
   "execution_count": 1,
   "metadata": {},
   "outputs": [],
   "source": [
    "%matplotlib inline\n",
    "from sklearn.datasets import make_regression\n",
    "import numpy as np\n",
    "import matplotlib.pyplot as plt"
   ]
  },
  {
   "cell_type": "code",
   "execution_count": 2,
   "metadata": {},
   "outputs": [],
   "source": [
    "#code adapted from http://tillbergmann.com/blog/python-gradient-descent.html\n",
    "X, y, coef = make_regression(n_samples = 100, \n",
    "                       n_features=1, \n",
    "                       noise=20,\n",
    "                       random_state=2017,\n",
    "                       coef=True)"
   ]
  },
  {
   "cell_type": "markdown",
   "metadata": {},
   "source": [
    "Notice that the X is in the canonical array-of-arrays format.\n",
    "**Try and print its shape**"
   ]
  },
  {
   "cell_type": "code",
   "execution_count": 4,
   "metadata": {},
   "outputs": [
    {
     "data": {
      "text/plain": [
       "array([[ 0.03225343],\n",
       "       [-0.43717257],\n",
       "       [-0.14039799],\n",
       "       [-0.28942671],\n",
       "       [-1.43048995],\n",
       "       [-0.86109055],\n",
       "       [-0.95908022],\n",
       "       [-0.52824237],\n",
       "       [-0.18007786],\n",
       "       [ 1.81894788],\n",
       "       [-1.50157469],\n",
       "       [ 1.07524045],\n",
       "       [-0.53757079],\n",
       "       [-0.33654744],\n",
       "       [-0.69333384],\n",
       "       [ 0.18613021],\n",
       "       [-0.35285906],\n",
       "       [-0.59573347],\n",
       "       [-0.95284841],\n",
       "       [ 1.37214258],\n",
       "       [-1.00148098],\n",
       "       [ 0.59405599],\n",
       "       [ 1.98893004],\n",
       "       [-0.84764818],\n",
       "       [ 0.21276995],\n",
       "       [-0.86352344],\n",
       "       [-0.44574656],\n",
       "       [-1.08669572],\n",
       "       [ 0.88578638],\n",
       "       [-0.39457786],\n",
       "       [-0.75808346],\n",
       "       [ 0.21445342],\n",
       "       [-0.91772873],\n",
       "       [ 1.18192126],\n",
       "       [-1.23456807],\n",
       "       [ 1.51028721],\n",
       "       [ 0.36908201],\n",
       "       [ 0.07800759],\n",
       "       [ 0.92827925],\n",
       "       [ 0.91180261],\n",
       "       [ 0.50541435],\n",
       "       [ 0.39476163],\n",
       "       [-1.40727442],\n",
       "       [ 1.33682587],\n",
       "       [ 0.28914398],\n",
       "       [ 0.10784411],\n",
       "       [-0.48610801],\n",
       "       [-1.01412413],\n",
       "       [-0.99058644],\n",
       "       [-0.81726253],\n",
       "       [ 1.19533418],\n",
       "       [ 1.39334529],\n",
       "       [-0.55307527],\n",
       "       [ 1.31181742],\n",
       "       [-0.20875222],\n",
       "       [ 0.02615138],\n",
       "       [ 0.03133165],\n",
       "       [-0.85845574],\n",
       "       [-0.09592554],\n",
       "       [ 0.57347598],\n",
       "       [ 0.88361674],\n",
       "       [-0.27481173],\n",
       "       [-0.89590558],\n",
       "       [-1.02294529],\n",
       "       [ 1.44454617],\n",
       "       [ 0.74268098],\n",
       "       [-0.55325354],\n",
       "       [ 0.46630994],\n",
       "       [ 0.81253433],\n",
       "       [-0.38342089],\n",
       "       [ 1.14773859],\n",
       "       [ 0.19909227],\n",
       "       [-0.09843773],\n",
       "       [-0.39285043],\n",
       "       [ 1.20320029],\n",
       "       [-1.56386788],\n",
       "       [-0.724668  ],\n",
       "       [-0.84860918],\n",
       "       [-0.22007928],\n",
       "       [-0.73312349],\n",
       "       [-0.44412137],\n",
       "       [ 1.23233384],\n",
       "       [-0.48253414],\n",
       "       [ 0.6770562 ],\n",
       "       [ 0.89574884],\n",
       "       [-0.01124513],\n",
       "       [-0.520261  ],\n",
       "       [-2.20268367],\n",
       "       [ 1.20129796],\n",
       "       [-0.74358543],\n",
       "       [-0.70954338],\n",
       "       [-0.19933591],\n",
       "       [-1.08933018],\n",
       "       [ 0.78779876],\n",
       "       [ 0.14851281],\n",
       "       [-0.59370289],\n",
       "       [ 0.44482146],\n",
       "       [ 2.42038368],\n",
       "       [ 0.67422499],\n",
       "       [ 0.02184234]])"
      ]
     },
     "execution_count": 4,
     "metadata": {},
     "output_type": "execute_result"
    }
   ],
   "source": [
    "X"
   ]
  },
  {
   "cell_type": "markdown",
   "metadata": {},
   "source": [
    "We are fitting a model with an intercept. Lets see what it is."
   ]
  },
  {
   "cell_type": "code",
   "execution_count": 5,
   "metadata": {},
   "outputs": [
    {
     "data": {
      "text/plain": [
       "array(80.88336208)"
      ]
     },
     "execution_count": 5,
     "metadata": {},
     "output_type": "execute_result"
    }
   ],
   "source": [
    "coef"
   ]
  },
  {
   "cell_type": "markdown",
   "metadata": {},
   "source": [
    "We can plot the data."
   ]
  },
  {
   "cell_type": "code",
   "execution_count": 6,
   "metadata": {},
   "outputs": [
    {
     "data": {
      "image/png": "[encoded data removed]",
      "text/plain": [
       "<Figure size 432x288 with 1 Axes>"
      ]
     },
     "metadata": {
      "needs_background": "light"
     },
     "output_type": "display_data"
    }
   ],
   "source": [
    "plt.plot(X,y, 'o');"
   ]
  },
  {
   "cell_type": "markdown",
   "metadata": {},
   "source": [
    "For the purposes of drawing the regression line, lets create a uniform grid of points, and then reshape it into the canonical format"
   ]
  },
  {
   "cell_type": "code",
   "execution_count": 15,
   "metadata": {},
   "outputs": [],
   "source": [
    "xgrid = np.linspace(-2.5,2.5,1000)\n",
    "xgrid = xgrid.reshape(-1,1)"
   ]
  },
  {
   "cell_type": "markdown",
   "metadata": {},
   "source": [
    "## Fit using sklearn"
   ]
  },
  {
   "cell_type": "code",
   "execution_count": 16,
   "metadata": {},
   "outputs": [],
   "source": [
    "from sklearn.linear_model import LinearRegression"
   ]
  },
  {
   "cell_type": "code",
   "execution_count": 17,
   "metadata": {},
   "outputs": [
    {
     "data": {
      "text/plain": [
       "(array([82.90456142]), -3.709228868670303)"
      ]
     },
     "execution_count": 17,
     "metadata": {},
     "output_type": "execute_result"
    }
   ],
   "source": [
    "lr = LinearRegression()\n",
    "lr.fit(X,y)\n",
    "ypgrid = lr.predict(Xgrid)\n",
    "lr.coef_, lr.intercept_"
   ]
  },
  {
   "cell_type": "code",
   "execution_count": 19,
   "metadata": {},
   "outputs": [
    {
     "data": {
      "image/png": "[encoded data removed]",
      "text/plain": [
       "<Figure size 432x288 with 1 Axes>"
      ]
     },
     "metadata": {
      "needs_background": "light"
     },
     "output_type": "display_data"
    }
   ],
   "source": [
    "plt.plot(Xgrid, ypgrid)\n",
    "plt.plot(X, y, '.');"
   ]
  },
  {
   "cell_type": "code",
   "execution_count": 20,
   "metadata": {},
   "outputs": [],
   "source": [
    "from sklearn.metrics import r2_score"
   ]
  },
  {
   "cell_type": "code",
   "execution_count": 21,
   "metadata": {},
   "outputs": [
    {
     "data": {
      "text/plain": [
       "0.9342344891672815"
      ]
     },
     "execution_count": 21,
     "metadata": {},
     "output_type": "execute_result"
    }
   ],
   "source": [
    "r2_score(y, lr.predict(X))"
   ]
  },
  {
   "cell_type": "markdown",
   "metadata": {},
   "source": [
    "## The impact of sample size\n",
    "\n",
    "We'll sample 20 points from the data set. We do this by sampling 20 indices, index into X and y, and then fit on the sample"
   ]
  },
  {
   "cell_type": "code",
   "execution_count": 22,
   "metadata": {},
   "outputs": [
    {
     "data": {
      "text/plain": [
       "array([40, 36, 56, 26, 75, 82, 45, 62, 21, 71, 93, 27, 95, 70, 61, 59, 99,\n",
       "       57, 55, 46])"
      ]
     },
     "execution_count": 22,
     "metadata": {},
     "output_type": "execute_result"
    }
   ],
   "source": [
    "sample_indices = np.random.choice(range(100), size=20)\n",
    "sample_indices"
   ]
  },
  {
   "cell_type": "code",
   "execution_count": 23,
   "metadata": {},
   "outputs": [],
   "source": [
    "Xsample = X[sample_indices]\n",
    "ysample = y[sample_indices]"
   ]
  },
  {
   "cell_type": "code",
   "execution_count": 24,
   "metadata": {},
   "outputs": [
    {
     "data": {
      "text/plain": [
       "(0.8879138621422957, 0.8879138621422957)"
      ]
     },
     "execution_count": 24,
     "metadata": {},
     "output_type": "execute_result"
    }
   ],
   "source": [
    "lr_s = LinearRegression().fit(Xsample, ysample)\n",
    "r2_score(ysample, lr_s.predict(Xsample)), lr_s.score(Xsample, ysample)"
   ]
  },
  {
   "cell_type": "markdown",
   "metadata": {},
   "source": [
    "Lets check the sensitivity of our prediction to our sample. We'll do this 1000 times"
   ]
  },
  {
   "cell_type": "code",
   "execution_count": 25,
   "metadata": {},
   "outputs": [
    {
     "data": {
      "text/plain": [
       "(0.7, 1)"
      ]
     },
     "execution_count": 25,
     "metadata": {},
     "output_type": "execute_result"
    },
    {
     "data": {
      "image/png": "[encoded data removed]",
      "text/plain": [
       "<Figure size 432x288 with 1 Axes>"
      ]
     },
     "metadata": {
      "needs_background": "light"
     },
     "output_type": "display_data"
    }
   ],
   "source": [
    "scores = []\n",
    "for i in range(1000):\n",
    "    sample_indices = np.random.choice(range(100), size=20)\n",
    "    Xsample = X[sample_indices]\n",
    "    ysample = y[sample_indices]\n",
    "    scores.append(LinearRegression().fit(Xsample, ysample).score(Xsample, ysample))\n",
    "plt.hist(scores,  bins=np.linspace(0.7, 1, 30))\n",
    "plt.xlim(0.7,1)"
   ]
  },
  {
   "cell_type": "markdown",
   "metadata": {},
   "source": [
    "Redo this with a higher amount of noise (about 400). For this you will need to create a new dataset. Plot the data. Plot the histogram of the R^2 as well as that of the coefficients.Try a smaller dataset as well. What conclusions can you draw?"
   ]
  },
  {
   "cell_type": "code",
   "execution_count": 26,
   "metadata": {},
   "outputs": [],
   "source": [
    "# your code here\n",
    "#code adapted from http://tillbergmann.com/blog/python-gradient-descent.html\n",
    "X, y, coef = make_regression(n_samples = 100, \n",
    "                       n_features=1, \n",
    "                       noise=400,\n",
    "                       random_state=2017,\n",
    "                       coef=True)"
   ]
  },
  {
   "cell_type": "code",
   "execution_count": 27,
   "metadata": {},
   "outputs": [
    {
     "data": {
      "text/plain": [
       "(array([121.30734871]), -74.18457737340603)"
      ]
     },
     "execution_count": 27,
     "metadata": {},
     "output_type": "execute_result"
    }
   ],
   "source": [
    "# your code here\n",
    "lr = LinearRegression()\n",
    "lr.fit(X,y)\n",
    "ypgrid = lr.predict(Xgrid)\n",
    "lr.coef_, lr.intercept_"
   ]
  },
  {
   "cell_type": "code",
   "execution_count": 28,
   "metadata": {},
   "outputs": [
    {
     "data": {
      "image/png": "[encoded data removed]",
      "text/plain": [
       "<Figure size 432x288 with 1 Axes>"
      ]
     },
     "metadata": {
      "needs_background": "light"
     },
     "output_type": "display_data"
    }
   ],
   "source": [
    "# your code here\n",
    "plt.plot(X,y, 'o');"
   ]
  },
  {
   "cell_type": "code",
   "execution_count": 29,
   "metadata": {},
   "outputs": [
    {
     "data": {
      "text/plain": [
       "0.07066243043021658"
      ]
     },
     "execution_count": 29,
     "metadata": {},
     "output_type": "execute_result"
    }
   ],
   "source": [
    "# your code here\n",
    "r2_score(y, lr.predict(X))"
   ]
  },
  {
   "cell_type": "code",
   "execution_count": null,
   "metadata": {},
   "outputs": [],
   "source": [
    "# your code here\n",
    "scores = []\n",
    "for i in range(1000):\n",
    "    sample_indices = np.random.choice(range(100), size=20)\n",
    "    Xsample = X[sample_indices]\n",
    "    ysample = y[sample_indices]\n",
    "    scores.append(LinearRegression().fit(Xsample, ysample).score(Xsample, ysample))\n",
    "plt.hist(scores)"
   ]
  },
  {
   "cell_type": "markdown",
   "metadata": {},
   "source": [
    "## Testing and training\n",
    "\n",
    "A grid like the one we created might contain some of the points we fit this model on. This is called **Data Contamination** and is a big no-no. If we want an independent estimate of the error, we should hold out some points in a test set."
   ]
  },
  {
   "cell_type": "code",
   "execution_count": 29,
   "metadata": {},
   "outputs": [],
   "source": [
    "from sklearn.model_selection import train_test_split"
   ]
  },
  {
   "cell_type": "code",
   "execution_count": 30,
   "metadata": {},
   "outputs": [],
   "source": [
    "Xtrain, Xtest, ytrain, ytest = train_test_split(X, y, test_size=0.2, random_state=2017)"
   ]
  },
  {
   "cell_type": "markdown",
   "metadata": {},
   "source": [
    "Now lets fit the model on the training set and evaluate it both on the training set and the test set. We print the R^2"
   ]
  },
  {
   "cell_type": "code",
   "execution_count": 31,
   "metadata": {},
   "outputs": [],
   "source": [
    "lr2 = LinearRegression().fit(Xtrain, ytrain)\n",
    "r2_test = r2_score(ytest, lr.predict(Xtest))\n",
    "r2_train = r2_score(ytrain, lr.predict(Xtrain))"
   ]
  },
  {
   "cell_type": "code",
   "execution_count": 32,
   "metadata": {},
   "outputs": [],
   "source": [
    "\"Train R2 is {}, while test R^2 is {}\".format(r2_train, r2_test)"
   ]
  },
  {
   "cell_type": "markdown",
   "metadata": {},
   "source": [
    "## Using Keras to fit the model\n",
    "\n",
    "We'll use plain and simple gradient descent (why?) and Keras's Sequential API"
   ]
  },
  {
   "cell_type": "code",
   "execution_count": 67,
   "metadata": {},
   "outputs": [],
   "source": [
    "from keras.models import Sequential\n",
    "from keras.layers import Dense\n",
    "lr3 = Sequential()\n",
    "lr3.add(Dense(1, input_shape=(1,)))\n",
    "lr3.compile(optimizer='sgd', loss='mean_squared_error',  metrics=['mae','accuracy'])\n",
    "lr3.summary()"
   ]
  },
  {
   "cell_type": "code",
   "execution_count": 68,
   "metadata": {},
   "outputs": [],
   "source": [
    "history = lr3.fit(Xtrain, ytrain, epochs=400, batch_size=80)"
   ]
  },
  {
   "cell_type": "code",
   "execution_count": 69,
   "metadata": {},
   "outputs": [],
   "source": [
    "plt.plot(history.history['loss'])"
   ]
  },
  {
   "cell_type": "code",
   "execution_count": 70,
   "metadata": {},
   "outputs": [],
   "source": [
    "lr3.get_weights()"
   ]
  },
  {
   "cell_type": "markdown",
   "metadata": {},
   "source": [
    "### Using the Keras Functional API\n",
    "\n"
   ]
  },
  {
   "cell_type": "code",
   "execution_count": 71,
   "metadata": {},
   "outputs": [],
   "source": [
    "from keras.layers import Input, Dense\n",
    "from keras.models import Model\n",
    "\n",
    "inputs_placeholder = Input(shape=(1,))\n",
    "outputs_placeholder = Dense(1, activation='linear')(inputs_placeholder)\n",
    "\n",
    "m = Model(inputs=inputs_placeholder, outputs=outputs_placeholder)\n",
    "m.compile(optimizer='sgd', loss='mean_squared_error',  metrics=['mae','accuracy'])\n",
    "m.summary()"
   ]
  },
  {
   "cell_type": "code",
   "execution_count": 72,
   "metadata": {},
   "outputs": [],
   "source": [
    "history2 = m.fit(Xtrain, ytrain, epochs=250, batch_size=80)"
   ]
  },
  {
   "cell_type": "code",
   "execution_count": 73,
   "metadata": {},
   "outputs": [],
   "source": [
    "m.get_weights()"
   ]
  }
 ],
 "metadata": {
  "anaconda-cloud": {},
  "kernelspec": {
   "display_name": "Python 3",
   "language": "python",
   "name": "python3"
  },
  "language_info": {
   "codemirror_mode": {
    "name": "ipython",
    "version": 3
   },
   "file_extension": ".py",
   "mimetype": "text/x-python",
   "name": "python",
   "nbconvert_exporter": "python",
   "pygments_lexer": "ipython3",
   "version": "3.7.3"
  },
  "nteract": {
   "version": "0.7.1"
  }
 },
 "nbformat": 4,
 "nbformat_minor": 2
}
